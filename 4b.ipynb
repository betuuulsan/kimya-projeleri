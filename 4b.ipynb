{
  "nbformat": 4,
  "nbformat_minor": 0,
  "metadata": {
    "colab": {
      "provenance": [],
      "authorship_tag": "ABX9TyPwp2TyMiTWfkbhkYuLzq18",
      "include_colab_link": true
    },
    "kernelspec": {
      "name": "python3",
      "display_name": "Python 3"
    },
    "language_info": {
      "name": "python"
    }
  },
  "cells": [
    {
      "cell_type": "markdown",
      "metadata": {
        "id": "view-in-github",
        "colab_type": "text"
      },
      "source": [
        "<a href=\"https://colab.research.google.com/github/betuuulsan/kimya-projeleri/blob/main/4b.ipynb\" target=\"_parent\"><img src=\"https://colab.research.google.com/assets/colab-badge.svg\" alt=\"Open In Colab\"/></a>"
      ]
    },
    {
      "cell_type": "code",
      "source": [
        "class sifre:\n",
        "    def __init__(self):\n",
        "        self.email = input(\"Lütfen hesap açmak için e-posta adresinizi girin: \")\n",
        "        self.sifre = input(\"Lütfen hesap açmak için şifrenizi girin: \")\n",
        "\n",
        "    def giris(self):\n",
        "        girilen_email = input(\"E-posta adresinizi oturum açmak için girin: \")\n",
        "        girilen_sifre = input(\"Şifrenizi oturum açmak için girin: \")\n",
        "\n",
        "        if girilen_email == self.email and girilen_sifre == self.sifre:\n",
        "            print(\"Giriş başarılı!\")\n",
        "        else:\n",
        "            print(\"E-posta adresi veya şifre yanlış.\")\n",
        "\n",
        "x1 = sifre()\n",
        "x1.giris()\n",
        "\n"
      ],
      "metadata": {
        "id": "DT1NC899DNq0"
      },
      "execution_count": null,
      "outputs": []
    }
  ]
}